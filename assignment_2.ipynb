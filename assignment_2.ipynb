{
  "nbformat": 4,
  "nbformat_minor": 0,
  "metadata": {
    "colab": {
      "provenance": [],
      "authorship_tag": "ABX9TyM/9lapdVml0mjCIWOr5pyo",
      "include_colab_link": true
    },
    "kernelspec": {
      "name": "python3",
      "display_name": "Python 3"
    },
    "language_info": {
      "name": "python"
    }
  },
  "cells": [
    {
      "cell_type": "markdown",
      "metadata": {
        "id": "view-in-github",
        "colab_type": "text"
      },
      "source": [
        "<a href=\"https://colab.research.google.com/github/Lydia-10/PYTHON_CODES/blob/main/assignment_2.ipynb\" target=\"_parent\"><img src=\"https://colab.research.google.com/assets/colab-badge.svg\" alt=\"Open In Colab\"/></a>"
      ]
    },
    {
      "cell_type": "code",
      "source": [
        "import numpy as np\n",
        "import pandas as pd\n",
        "from sklearn.model_selection import train_test_split\n",
        "from sklearn.tree import DecisionTreeRegressor\n",
        "from sklearn.ensemble import RandomForestRegressor\n",
        "from sklearn.metrics import mean_squared_error, mean_absolute_error\n",
        "\n",
        "# Step 1: Data Preparation\n",
        "housing_data = pd.read_csv('/content/Real estate.csv')\n",
        "X = housing_data.drop(columns=['Y house price of unit area'])\n",
        "y = housing_data['Y house price of unit area']\n",
        "X_train, X_test, y_train, y_test = train_test_split(X, y, test_size=0.2, random_state=42)\n",
        "\n",
        "# Step 2: Model Training\n",
        "# Decision Tree\n",
        "dt_model = DecisionTreeRegressor(random_state=42)\n",
        "dt_model.fit(X_train, y_train)\n",
        "\n",
        "# Random Forest\n",
        "rf_model = RandomForestRegressor(n_estimators=100, random_state=42)\n",
        "rf_model.fit(X_train, y_train)\n",
        "\n",
        "# Step 3: Model Evaluation\n",
        "# Decision Tree\n",
        "dt_predictions = dt_model.predict(X_test)\n",
        "dt_rmse = np.sqrt(mean_squared_error(y_test, dt_predictions))\n",
        "dt_mae = mean_absolute_error(y_test, dt_predictions)\n",
        "\n",
        "# Random Forest\n",
        "rf_predictions = rf_model.predict(X_test)\n",
        "rf_rmse = np.sqrt(mean_squared_error(y_test, rf_predictions))\n",
        "rf_mae = mean_absolute_error(y_test, rf_predictions)\n",
        "\n",
        "# Step 4: Comparison and Conclusion\n",
        "print(\"Decision Tree:\")\n",
        "print(\"RMSE:\", dt_rmse)\n",
        "print(\"MAE:\", dt_mae)\n",
        "\n",
        "print(\"\\nRandom Forest:\")\n",
        "print(\"RMSE:\", rf_rmse)\n",
        "print(\"MAE:\", rf_mae)\n"
      ],
      "metadata": {
        "colab": {
          "base_uri": "https://localhost:8080/"
        },
        "id": "Zg_zoEd1r7gu",
        "outputId": "c577e7a6-4023-4d58-9c6f-cc010e85766b"
      },
      "execution_count": 4,
      "outputs": [
        {
          "output_type": "stream",
          "name": "stdout",
          "text": [
            "Decision Tree:\n",
            "RMSE: 7.341210628634483\n",
            "MAE: 5.360240963855421\n",
            "\n",
            "Random Forest:\n",
            "RMSE: 5.644398192173123\n",
            "MAE: 3.8668554216867457\n"
          ]
        }
      ]
    }
  ]
}